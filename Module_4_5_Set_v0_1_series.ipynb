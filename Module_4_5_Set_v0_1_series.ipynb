{
  "nbformat": 4,
  "nbformat_minor": 0,
  "metadata": {
    "colab": {
      "name": "Module_4.5_Set_v0.1_series.ipynb",
      "provenance": [],
      "collapsed_sections": [],
      "include_colab_link": true
    },
    "language_info": {
      "codemirror_mode": {
        "name": "ipython",
        "version": 3
      },
      "file_extension": ".py",
      "mimetype": "text/x-python",
      "name": "python",
      "nbconvert_exporter": "python",
      "pygments_lexer": "ipython3",
      "version": "3.6.2"
    },
    "kernelspec": {
      "display_name": "Python 3",
      "language": "python",
      "name": "python3"
    }
  },
  "cells": [
    {
      "cell_type": "markdown",
      "metadata": {
        "id": "view-in-github",
        "colab_type": "text"
      },
      "source": [
        "<a href=\"https://colab.research.google.com/github/imrd22/Modules/blob/master/Module_4_5_Set_v0_1_series.ipynb\" target=\"_parent\"><img src=\"https://colab.research.google.com/assets/colab-badge.svg\" alt=\"Open In Colab\"/></a>"
      ]
    },
    {
      "cell_type": "markdown",
      "metadata": {
        "id": "heVcQs0BifgP",
        "colab_type": "text"
      },
      "source": [
        "# The Series Data Structure"
      ]
    },
    {
      "cell_type": "code",
      "metadata": {
        "id": "sXIXm5hLifgQ",
        "colab_type": "code",
        "colab": {}
      },
      "source": [
        "import pandas as pd\n",
        "#pd.Series?"
      ],
      "execution_count": 0,
      "outputs": []
    },
    {
      "cell_type": "code",
      "metadata": {
        "id": "lBzJQiktifgT",
        "colab_type": "code",
        "colab": {}
      },
      "source": [
        "animals = ['Tiger', 'Bear', 'Moose']\n",
        "a = pd.Series(animals,name='Animals')\n",
        "\n",
        "\n"
      ],
      "execution_count": 0,
      "outputs": []
    },
    {
      "cell_type": "code",
      "metadata": {
        "id": "v1aHXMT1ifgV",
        "colab_type": "code",
        "outputId": "50debc56-15cc-4515-b696-44fafd965d50",
        "colab": {
          "base_uri": "https://localhost:8080/",
          "height": 85
        }
      },
      "source": [
        "numbers = [1, 2, 3]\n",
        "pd.Series(numbers)"
      ],
      "execution_count": 3,
      "outputs": [
        {
          "output_type": "execute_result",
          "data": {
            "text/plain": [
              "0    1\n",
              "1    2\n",
              "2    3\n",
              "dtype: int64"
            ]
          },
          "metadata": {
            "tags": []
          },
          "execution_count": 3
        }
      ]
    },
    {
      "cell_type": "code",
      "metadata": {
        "id": "ySd8LHjUifgX",
        "colab_type": "code",
        "outputId": "2ac8ab89-951e-4399-abd8-a75070c9949a",
        "colab": {
          "base_uri": "https://localhost:8080/",
          "height": 85
        }
      },
      "source": [
        "animals = ['Tiger', 'Bear', None]\n",
        "pd.Series(animals)"
      ],
      "execution_count": 4,
      "outputs": [
        {
          "output_type": "execute_result",
          "data": {
            "text/plain": [
              "0    Tiger\n",
              "1     Bear\n",
              "2     None\n",
              "dtype: object"
            ]
          },
          "metadata": {
            "tags": []
          },
          "execution_count": 4
        }
      ]
    },
    {
      "cell_type": "code",
      "metadata": {
        "id": "4CsloBaSifgY",
        "colab_type": "code",
        "outputId": "9a8565cf-e1ee-4539-f398-b876e8b72c0f",
        "colab": {
          "base_uri": "https://localhost:8080/",
          "height": 85
        }
      },
      "source": [
        "numbers = [1, 2, None]\n",
        "pd.Series(numbers, dtype='object')"
      ],
      "execution_count": 5,
      "outputs": [
        {
          "output_type": "execute_result",
          "data": {
            "text/plain": [
              "0       1\n",
              "1       2\n",
              "2    None\n",
              "dtype: object"
            ]
          },
          "metadata": {
            "tags": []
          },
          "execution_count": 5
        }
      ]
    },
    {
      "cell_type": "code",
      "metadata": {
        "id": "3KakborNifga",
        "colab_type": "code",
        "outputId": "ebbc240d-bdd3-4ec1-e6ba-98c4a3a236a3",
        "colab": {
          "base_uri": "https://localhost:8080/",
          "height": 34
        }
      },
      "source": [
        "import numpy as np\n",
        "np.nan == None"
      ],
      "execution_count": 6,
      "outputs": [
        {
          "output_type": "execute_result",
          "data": {
            "text/plain": [
              "False"
            ]
          },
          "metadata": {
            "tags": []
          },
          "execution_count": 6
        }
      ]
    },
    {
      "cell_type": "code",
      "metadata": {
        "id": "cgVvdntjifgc",
        "colab_type": "code",
        "outputId": "7eac23a5-0f1f-488c-cce0-99a4f58e8f69",
        "colab": {
          "base_uri": "https://localhost:8080/",
          "height": 35
        }
      },
      "source": [
        "np.nan == np.nan"
      ],
      "execution_count": 0,
      "outputs": [
        {
          "output_type": "execute_result",
          "data": {
            "text/plain": [
              "False"
            ]
          },
          "metadata": {
            "tags": []
          },
          "execution_count": 10
        }
      ]
    },
    {
      "cell_type": "code",
      "metadata": {
        "id": "Zcxc_LVnifge",
        "colab_type": "code",
        "outputId": "59c688d3-cd64-47f6-b093-fe631ca42c9b",
        "colab": {
          "base_uri": "https://localhost:8080/",
          "height": 34
        }
      },
      "source": [
        "np.isnan(np.nan)"
      ],
      "execution_count": 7,
      "outputs": [
        {
          "output_type": "execute_result",
          "data": {
            "text/plain": [
              "True"
            ]
          },
          "metadata": {
            "tags": []
          },
          "execution_count": 7
        }
      ]
    },
    {
      "cell_type": "code",
      "metadata": {
        "id": "qj5x1Othifgg",
        "colab_type": "code",
        "outputId": "5d1a798a-8121-4162-f165-fff3dd83653e",
        "colab": {
          "base_uri": "https://localhost:8080/",
          "height": 102
        }
      },
      "source": [
        "sports = {'Archery': 'Bhutan',\n",
        "          'Golf': 'Scotland',\n",
        "          'Sumo': 'Japan',\n",
        "          'Taekwondo': 'South Korea'}\n",
        "s = pd.Series(sports)\n",
        "s"
      ],
      "execution_count": 9,
      "outputs": [
        {
          "output_type": "execute_result",
          "data": {
            "text/plain": [
              "Archery           Bhutan\n",
              "Golf            Scotland\n",
              "Sumo               Japan\n",
              "Taekwondo    South Korea\n",
              "dtype: object"
            ]
          },
          "metadata": {
            "tags": []
          },
          "execution_count": 9
        }
      ]
    },
    {
      "cell_type": "code",
      "metadata": {
        "id": "9OfwWqYtifgj",
        "colab_type": "code",
        "outputId": "270d1233-0748-43c3-c227-7ff74924298d",
        "colab": {
          "base_uri": "https://localhost:8080/",
          "height": 35
        }
      },
      "source": [
        "s.index"
      ],
      "execution_count": 0,
      "outputs": [
        {
          "output_type": "execute_result",
          "data": {
            "text/plain": [
              "Index(['Archery', 'Golf', 'Sumo', 'Taekwondo'], dtype='object')"
            ]
          },
          "metadata": {
            "tags": []
          },
          "execution_count": 13
        }
      ]
    },
    {
      "cell_type": "code",
      "metadata": {
        "id": "2oUUnGjHifgl",
        "colab_type": "code",
        "outputId": "91b7158c-35ce-4f7a-bd75-00af64ecbc77",
        "colab": {
          "base_uri": "https://localhost:8080/",
          "height": 87
        }
      },
      "source": [
        "s = pd.Series(['Tiger', 'Bear', 'Moose'], index=['India', 'America', 'Canada'])\n",
        "s"
      ],
      "execution_count": 0,
      "outputs": [
        {
          "output_type": "execute_result",
          "data": {
            "text/plain": [
              "India      Tiger\n",
              "America     Bear\n",
              "Canada     Moose\n",
              "dtype: object"
            ]
          },
          "metadata": {
            "tags": []
          },
          "execution_count": 14
        }
      ]
    },
    {
      "cell_type": "code",
      "metadata": {
        "id": "hmpTBT3Zifgm",
        "colab_type": "code",
        "outputId": "0acda916-4273-48e6-ee7f-2a03538862a4",
        "colab": {
          "base_uri": "https://localhost:8080/",
          "height": 87
        }
      },
      "source": [
        "sports = {'Archery': 'Bhutan',\n",
        "          'Golf': 'Scotland',\n",
        "          'Sumo': 'Japan',\n",
        "          'Taekwondo': 'South Korea'}\n",
        "s = pd.Series(sports, index=['Golf', 'Sumo', 'Hockey'])\n",
        "s"
      ],
      "execution_count": 0,
      "outputs": [
        {
          "output_type": "execute_result",
          "data": {
            "text/plain": [
              "Golf      Scotland\n",
              "Sumo         Japan\n",
              "Hockey         NaN\n",
              "dtype: object"
            ]
          },
          "metadata": {
            "tags": []
          },
          "execution_count": 15
        }
      ]
    },
    {
      "cell_type": "markdown",
      "metadata": {
        "id": "YBMFQOSzifgo",
        "colab_type": "text"
      },
      "source": [
        "# Querying a Series"
      ]
    },
    {
      "cell_type": "code",
      "metadata": {
        "id": "K93zihU8ifgo",
        "colab_type": "code",
        "outputId": "1eb55b99-0c4a-44ef-e46a-e7491a3d2f27",
        "colab": {
          "base_uri": "https://localhost:8080/",
          "height": 104
        }
      },
      "source": [
        "sports = {'Archery': 'Bhutan',\n",
        "          'Golf': 'Scotland',\n",
        "          'Sumo': 'Japan',\n",
        "          'Taekwondo': None}\n",
        "s = pd.Series(sports)\n",
        "s"
      ],
      "execution_count": 0,
      "outputs": [
        {
          "output_type": "execute_result",
          "data": {
            "text/plain": [
              "Archery        Bhutan\n",
              "Golf         Scotland\n",
              "Sumo            Japan\n",
              "Taekwondo        None\n",
              "dtype: object"
            ]
          },
          "metadata": {
            "tags": []
          },
          "execution_count": 16
        }
      ]
    },
    {
      "cell_type": "code",
      "metadata": {
        "id": "hDItbBxOifgq",
        "colab_type": "code",
        "colab": {}
      },
      "source": [
        "s.iloc[3]"
      ],
      "execution_count": 0,
      "outputs": []
    },
    {
      "cell_type": "code",
      "metadata": {
        "id": "eu-ZTJ0rifgs",
        "colab_type": "code",
        "outputId": "dd34b917-3107-44f8-bdc3-77d164da8a84",
        "colab": {
          "base_uri": "https://localhost:8080/",
          "height": 35
        }
      },
      "source": [
        "s.loc['Golf']"
      ],
      "execution_count": 0,
      "outputs": [
        {
          "output_type": "execute_result",
          "data": {
            "text/plain": [
              "'Scotland'"
            ]
          },
          "metadata": {
            "tags": []
          },
          "execution_count": 18
        }
      ]
    },
    {
      "cell_type": "code",
      "metadata": {
        "id": "n66I7ttWifg1",
        "colab_type": "code",
        "outputId": "48c0e154-85e7-49ec-8fc4-886e916e337c",
        "colab": {
          "base_uri": "https://localhost:8080/",
          "height": 104
        }
      },
      "source": [
        "s = pd.Series([100.00, 120.00, 101.00, 3.00])\n",
        "s"
      ],
      "execution_count": 0,
      "outputs": [
        {
          "output_type": "execute_result",
          "data": {
            "text/plain": [
              "0    100.0\n",
              "1    120.0\n",
              "2    101.0\n",
              "3      3.0\n",
              "dtype: float64"
            ]
          },
          "metadata": {
            "tags": []
          },
          "execution_count": 19
        }
      ]
    },
    {
      "cell_type": "code",
      "metadata": {
        "id": "FskEOzexifg3",
        "colab_type": "code",
        "outputId": "216f2a97-f2aa-451f-a6a5-69cf185129bb",
        "colab": {
          "base_uri": "https://localhost:8080/",
          "height": 35
        }
      },
      "source": [
        "total = 0\n",
        "for item in s:\n",
        "    total+=item\n",
        "print(total)"
      ],
      "execution_count": 0,
      "outputs": [
        {
          "output_type": "stream",
          "text": [
            "324.0\n"
          ],
          "name": "stdout"
        }
      ]
    },
    {
      "cell_type": "code",
      "metadata": {
        "id": "A2yAbxHUifg5",
        "colab_type": "code",
        "outputId": "cedd9290-91dd-452b-919c-a6df6fc7fef5",
        "colab": {
          "base_uri": "https://localhost:8080/",
          "height": 35
        }
      },
      "source": [
        "import numpy as np\n",
        "\n",
        "total = np.sum(s)\n",
        "print(total)"
      ],
      "execution_count": 0,
      "outputs": [
        {
          "output_type": "stream",
          "text": [
            "324.0\n"
          ],
          "name": "stdout"
        }
      ]
    },
    {
      "cell_type": "code",
      "metadata": {
        "id": "iCDrSxXWifg7",
        "colab_type": "code",
        "outputId": "45d3a581-5bc5-4eef-b3de-af278c56af59",
        "colab": {
          "base_uri": "https://localhost:8080/",
          "height": 121
        }
      },
      "source": [
        "#this creates a big series of random numbers\n",
        "s = pd.Series(np.random.randint(0,1000,10000))\n",
        "s.head()"
      ],
      "execution_count": 0,
      "outputs": [
        {
          "output_type": "execute_result",
          "data": {
            "text/plain": [
              "0    446\n",
              "1    611\n",
              "2    980\n",
              "3    501\n",
              "4    573\n",
              "dtype: int64"
            ]
          },
          "metadata": {
            "tags": []
          },
          "execution_count": 22
        }
      ]
    },
    {
      "cell_type": "code",
      "metadata": {
        "id": "BREx4SSdifg9",
        "colab_type": "code",
        "outputId": "0789d802-a9ed-4e73-923e-0294f16e9925",
        "colab": {
          "base_uri": "https://localhost:8080/",
          "height": 35
        }
      },
      "source": [
        "len(s)"
      ],
      "execution_count": 0,
      "outputs": [
        {
          "output_type": "execute_result",
          "data": {
            "text/plain": [
              "10000"
            ]
          },
          "metadata": {
            "tags": []
          },
          "execution_count": 23
        }
      ]
    },
    {
      "cell_type": "code",
      "metadata": {
        "id": "6zF7diI-ifg_",
        "colab_type": "code",
        "outputId": "a0df08ca-fa4a-4295-c398-2225ab9f7d0f",
        "colab": {
          "base_uri": "https://localhost:8080/",
          "height": 35
        }
      },
      "source": [
        "%%timeit -n 100\n",
        "summary = 0\n",
        "for item in s:\n",
        "    summary+=item"
      ],
      "execution_count": 0,
      "outputs": [
        {
          "output_type": "stream",
          "text": [
            "100 loops, best of 3: 1.09 ms per loop\n"
          ],
          "name": "stdout"
        }
      ]
    },
    {
      "cell_type": "code",
      "metadata": {
        "id": "Q4-qBQ2JifhA",
        "colab_type": "code",
        "outputId": "57d2b3e8-2ba4-458c-e463-25deb730ac47",
        "colab": {
          "base_uri": "https://localhost:8080/",
          "height": 35
        }
      },
      "source": [
        "%%timeit -n 100\n",
        "summary = np.sum(s)"
      ],
      "execution_count": 0,
      "outputs": [
        {
          "output_type": "stream",
          "text": [
            "100 loops, best of 3: 130 µs per loop\n"
          ],
          "name": "stdout"
        }
      ]
    },
    {
      "cell_type": "code",
      "metadata": {
        "id": "R7YOVo-difhB",
        "colab_type": "code",
        "outputId": "99bee91e-872d-4af4-d69c-4a2c99344597",
        "colab": {
          "base_uri": "https://localhost:8080/",
          "height": 121
        }
      },
      "source": [
        "s+=2 #adds two to each item in s using broadcasting\n",
        "s.head()"
      ],
      "execution_count": 0,
      "outputs": [
        {
          "output_type": "execute_result",
          "data": {
            "text/plain": [
              "0    448\n",
              "1    613\n",
              "2    982\n",
              "3    503\n",
              "4    575\n",
              "dtype: int64"
            ]
          },
          "metadata": {
            "tags": []
          },
          "execution_count": 26
        }
      ]
    },
    {
      "cell_type": "code",
      "metadata": {
        "id": "GU-n1-JWifhD",
        "colab_type": "code",
        "outputId": "fb68037b-06a5-4976-b79d-fa868a63a7bc",
        "colab": {
          "base_uri": "https://localhost:8080/",
          "height": 176
        }
      },
      "source": [
        "for label, value in s.iteritems():\n",
        "    s.set_value(label, value+2)\n",
        "s.head()"
      ],
      "execution_count": 0,
      "outputs": [
        {
          "output_type": "stream",
          "text": [
            "/usr/local/lib/python3.6/dist-packages/ipykernel_launcher.py:2: FutureWarning: set_value is deprecated and will be removed in a future release. Please use .at[] or .iat[] accessors instead\n",
            "  \n"
          ],
          "name": "stderr"
        },
        {
          "output_type": "execute_result",
          "data": {
            "text/plain": [
              "0    450\n",
              "1    615\n",
              "2    984\n",
              "3    505\n",
              "4    577\n",
              "dtype: int64"
            ]
          },
          "metadata": {
            "tags": []
          },
          "execution_count": 27
        }
      ]
    },
    {
      "cell_type": "code",
      "metadata": {
        "id": "qXuB_4xDifhF",
        "colab_type": "code",
        "outputId": "628279c0-6074-4785-fe3c-52a1dfb3f39a",
        "colab": {
          "base_uri": "https://localhost:8080/",
          "height": 35
        }
      },
      "source": [
        "%%timeit -n 10\n",
        "s = pd.Series(np.random.randint(0,1000,10000))\n",
        "for label, value in s.iteritems():\n",
        "    s.loc[label]= value+2"
      ],
      "execution_count": 0,
      "outputs": [
        {
          "output_type": "stream",
          "text": [
            "10 loops, best of 3: 6.06 s per loop\n"
          ],
          "name": "stdout"
        }
      ]
    },
    {
      "cell_type": "code",
      "metadata": {
        "id": "k4UzFO1VifhH",
        "colab_type": "code",
        "outputId": "28356e54-037a-49c6-fd85-6537a1926d8f",
        "colab": {
          "base_uri": "https://localhost:8080/",
          "height": 35
        }
      },
      "source": [
        "%%timeit -n 10\n",
        "s = pd.Series(np.random.randint(0,1000,10000))\n",
        "s+=2\n"
      ],
      "execution_count": 0,
      "outputs": [
        {
          "output_type": "stream",
          "text": [
            "10 loops, best of 3: 388 µs per loop\n"
          ],
          "name": "stdout"
        }
      ]
    },
    {
      "cell_type": "code",
      "metadata": {
        "id": "IUfDOPkQifhJ",
        "colab_type": "code",
        "colab": {}
      },
      "source": [
        "s = pd.Series([1, 2, 3])\n",
        "s.loc['Animal'] = 'Bears'\n",
        "s"
      ],
      "execution_count": 0,
      "outputs": []
    },
    {
      "cell_type": "code",
      "metadata": {
        "id": "k9gTISlPifhL",
        "colab_type": "code",
        "colab": {}
      },
      "source": [
        "original_sports = pd.Series({'Archery': 'Bhutan',\n",
        "                             'Golf': 'Scotland',\n",
        "                             'Sumo': 'Japan',\n",
        "                             'Taekwondo': 'South Korea'})\n",
        "cricket_loving_countries = pd.Series(['Australia',\n",
        "                                      'Barbados',\n",
        "                                      'Pakistan',\n",
        "                                      'England'], \n",
        "                                   index=['Cricket',\n",
        "                                          'Cricket',\n",
        "                                          'Cricket',\n",
        "                                          'Cricket'])\n",
        "all_countries = original_sports.append(cricket_loving_countries)"
      ],
      "execution_count": 0,
      "outputs": []
    },
    {
      "cell_type": "code",
      "metadata": {
        "id": "6DgAoIz1ifhN",
        "colab_type": "code",
        "colab": {
          "base_uri": "https://localhost:8080/",
          "height": 102
        },
        "outputId": "9e58ed4c-8fcc-4282-88bb-d34a1bb01e63"
      },
      "source": [
        "original_sports"
      ],
      "execution_count": 11,
      "outputs": [
        {
          "output_type": "execute_result",
          "data": {
            "text/plain": [
              "Archery           Bhutan\n",
              "Golf            Scotland\n",
              "Sumo               Japan\n",
              "Taekwondo    South Korea\n",
              "dtype: object"
            ]
          },
          "metadata": {
            "tags": []
          },
          "execution_count": 11
        }
      ]
    },
    {
      "cell_type": "code",
      "metadata": {
        "id": "MuNKyOHKifhP",
        "colab_type": "code",
        "colab": {
          "base_uri": "https://localhost:8080/",
          "height": 102
        },
        "outputId": "3e0d51b6-fc88-4e87-baef-b5f4cdf23ef2"
      },
      "source": [
        "cricket_loving_countries"
      ],
      "execution_count": 12,
      "outputs": [
        {
          "output_type": "execute_result",
          "data": {
            "text/plain": [
              "Cricket    Australia\n",
              "Cricket     Barbados\n",
              "Cricket     Pakistan\n",
              "Cricket      England\n",
              "dtype: object"
            ]
          },
          "metadata": {
            "tags": []
          },
          "execution_count": 12
        }
      ]
    },
    {
      "cell_type": "code",
      "metadata": {
        "id": "G45FHKU3ifhR",
        "colab_type": "code",
        "colab": {}
      },
      "source": [
        "all_countries"
      ],
      "execution_count": 0,
      "outputs": []
    },
    {
      "cell_type": "code",
      "metadata": {
        "id": "i6iFwnn1ifhT",
        "colab_type": "code",
        "colab": {}
      },
      "source": [
        "all_countries.loc['Cricket']"
      ],
      "execution_count": 0,
      "outputs": []
    }
  ]
}