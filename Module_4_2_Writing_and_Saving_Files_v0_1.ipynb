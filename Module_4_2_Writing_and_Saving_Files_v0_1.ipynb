{
  "nbformat": 4,
  "nbformat_minor": 0,
  "metadata": {
    "colab": {
      "name": "Module_4.2_Writing_and_Saving_Files_v0.1.ipynb",
      "provenance": [],
      "include_colab_link": true
    },
    "language_info": {
      "codemirror_mode": {
        "name": "ipython",
        "version": 3
      },
      "file_extension": ".py",
      "mimetype": "text/x-python",
      "name": "python",
      "nbconvert_exporter": "python",
      "pygments_lexer": "ipython3",
      "version": "3.6.5"
    },
    "kernelspec": {
      "display_name": "Python 3",
      "language": "python",
      "name": "python3"
    }
  },
  "cells": [
    {
      "cell_type": "markdown",
      "metadata": {
        "id": "view-in-github",
        "colab_type": "text"
      },
      "source": [
        "<a href=\"https://colab.research.google.com/github/imrd22/Modules/blob/master/Module_4_2_Writing_and_Saving_Files_v0_1.ipynb\" target=\"_parent\"><img src=\"https://colab.research.google.com/assets/colab-badge.svg\" alt=\"Open In Colab\"/></a>"
      ]
    },
    {
      "cell_type": "markdown",
      "metadata": {
        "id": "KgKPSYLgixYN",
        "colab_type": "text"
      },
      "source": [
        "#Writing and Saving Files in PYTHON"
      ]
    },
    {
      "cell_type": "markdown",
      "metadata": {
        "id": "VcBV2Ux_ixYO",
        "colab_type": "text"
      },
      "source": [
        "<br>"
      ]
    },
    {
      "cell_type": "markdown",
      "metadata": {
        "id": "4qsfgWkRixYO",
        "colab_type": "text"
      },
      "source": [
        "This notebook will provide information regarding writing and saving data into  **.txt** files. "
      ]
    },
    {
      "cell_type": "markdown",
      "metadata": {
        "id": "U3LF1QjQixYP",
        "colab_type": "text"
      },
      "source": [
        "## Table of Contents\n",
        "\n",
        "\n",
        "<div class=\"alert alert-block alert-info\" style=\"margin-top: 20px\">\n",
        "\n",
        "<li><a href=\"#refw\">Writing files  Text Files</a></li>\n",
        "\n",
        "<br>\n",
        "<p></p>\n",
        "Estimated Time Needed: <strong>15 min</strong>\n",
        "</div>\n",
        "\n",
        "<hr>"
      ]
    },
    {
      "cell_type": "markdown",
      "metadata": {
        "id": "mCyJ-HacixYP",
        "colab_type": "text"
      },
      "source": [
        "<a id=\"ref3\"></a>\n",
        "<h2 align=center>Writing Files</h2>"
      ]
    },
    {
      "cell_type": "markdown",
      "metadata": {
        "id": "dzei7sslixYQ",
        "colab_type": "text"
      },
      "source": [
        " We can open a file object using the method ** write()**  to save the text file to a list.  To write the mode, argument must be set to  write **w**. Let’s write a file **Example2.txt** with the line: “This is line A”"
      ]
    },
    {
      "cell_type": "code",
      "metadata": {
        "id": "gnKAxxgsixYQ",
        "colab_type": "code",
        "colab": {}
      },
      "source": [
        "with open('Example2.txt','w') as writefile:\n",
        "    writefile.write(\"This is line A\")"
      ],
      "execution_count": 0,
      "outputs": []
    },
    {
      "cell_type": "markdown",
      "metadata": {
        "id": "Gvkt2FQaixYT",
        "colab_type": "text"
      },
      "source": [
        " We can read the file to see if it worked:"
      ]
    },
    {
      "cell_type": "code",
      "metadata": {
        "id": "nTpp7dOpixYT",
        "colab_type": "code",
        "colab": {
          "base_uri": "https://localhost:8080/",
          "height": 34
        },
        "outputId": "4e32bc5a-9b3d-4043-d04a-7bbf23699b7e"
      },
      "source": [
        "with open('Example2.txt','r') as testwritefile:\n",
        "    print(testwritefile.read())"
      ],
      "execution_count": 2,
      "outputs": [
        {
          "output_type": "stream",
          "text": [
            "This is line A\n"
          ],
          "name": "stdout"
        }
      ]
    },
    {
      "cell_type": "markdown",
      "metadata": {
        "id": "u9hz-THUixYV",
        "colab_type": "text"
      },
      "source": [
        "We can write multiple lines:"
      ]
    },
    {
      "cell_type": "code",
      "metadata": {
        "id": "KJSanSk7ixYW",
        "colab_type": "code",
        "colab": {}
      },
      "source": [
        "with open('Example2.txt','w') as writefile:\n",
        "    writefile.write(\"This is line A\\n\")\n",
        "    writefile.write(\"This is line B\\n\")"
      ],
      "execution_count": 0,
      "outputs": []
    },
    {
      "cell_type": "markdown",
      "metadata": {
        "id": "iOS3i6nyixYX",
        "colab_type": "text"
      },
      "source": [
        "The method **.write()** works similar to the method **.readline()**, except instead of reading a new line it writes a new line. The process is illustrated in the figure , the different colour coding of the grid represents a new line added to the file after each method call."
      ]
    },
    {
      "cell_type": "markdown",
      "metadata": {
        "id": "b5Zv5p48ixYY",
        "colab_type": "text"
      },
      "source": [
        " <a ><img src = \"https://ibm.box.com/shared/static/4d86eysjv7fiy5nocgvpbddyj2uckw6z.png\" width = 500, align = \"center\"></a>\n",
        "  <h4 align=center>  \n",
        "    An example of “.write()”, the different colour coding of the grid represents a new line added after each method call.\n",
        "\n",
        "\n",
        "  </h4> "
      ]
    },
    {
      "cell_type": "markdown",
      "metadata": {
        "id": "I9ssJrC8ixYY",
        "colab_type": "text"
      },
      "source": [
        "You can check the file to see if your results are correct "
      ]
    },
    {
      "cell_type": "code",
      "metadata": {
        "id": "DUqeYqtRixYZ",
        "colab_type": "code",
        "colab": {
          "base_uri": "https://localhost:8080/",
          "height": 68
        },
        "outputId": "bdedd686-9566-49c6-a469-eea6f485f019"
      },
      "source": [
        "with open('Example2.txt','r') as testwritefile:\n",
        "    print(testwritefile.read())"
      ],
      "execution_count": 5,
      "outputs": [
        {
          "output_type": "stream",
          "text": [
            "This is line A\n",
            "This is line B\n",
            "\n"
          ],
          "name": "stdout"
        }
      ]
    },
    {
      "cell_type": "markdown",
      "metadata": {
        "id": "fw-v64RvixYa",
        "colab_type": "text"
      },
      "source": [
        " By setting the mode argument to append **a**  you can append a new line as follows:"
      ]
    },
    {
      "cell_type": "code",
      "metadata": {
        "id": "jEiEKVlwixYb",
        "colab_type": "code",
        "colab": {}
      },
      "source": [
        "with open('Example2.txt','a') as testwritefile:\n",
        "    testwritefile.write(\"This is line C\\n\")"
      ],
      "execution_count": 0,
      "outputs": []
    },
    {
      "cell_type": "markdown",
      "metadata": {
        "id": "hXJOEfqqixYd",
        "colab_type": "text"
      },
      "source": [
        " You can verify the file has changed by running the following cell:"
      ]
    },
    {
      "cell_type": "code",
      "metadata": {
        "id": "oeSfKP6XixYe",
        "colab_type": "code",
        "colab": {
          "base_uri": "https://localhost:8080/",
          "height": 85
        },
        "outputId": "e1d1c8c4-9fde-414c-ba39-3c38af339a34"
      },
      "source": [
        "with open('Example2.txt','r') as testwritefile:\n",
        "    print(testwritefile.read())"
      ],
      "execution_count": 7,
      "outputs": [
        {
          "output_type": "stream",
          "text": [
            "This is line A\n",
            "This is line B\n",
            "This is line C\n",
            "\n"
          ],
          "name": "stdout"
        }
      ]
    },
    {
      "cell_type": "markdown",
      "metadata": {
        "id": "HmDm6SC7ixYg",
        "colab_type": "text"
      },
      "source": [
        " We write a list to a **.txt** file  as follows:"
      ]
    },
    {
      "cell_type": "code",
      "metadata": {
        "id": "WtjooDsqixYg",
        "colab_type": "code",
        "colab": {
          "base_uri": "https://localhost:8080/",
          "height": 34
        },
        "outputId": "fdee99fb-6022-422f-bd2d-736f79db830d"
      },
      "source": [
        "Lines=[\"This is line A\\n\",\"This is line B\\n\",\"This is line C\\n\"]\n",
        "Lines"
      ],
      "execution_count": 8,
      "outputs": [
        {
          "output_type": "execute_result",
          "data": {
            "text/plain": [
              "['This is line A\\n', 'This is line B\\n', 'This is line C\\n']"
            ]
          },
          "metadata": {
            "tags": []
          },
          "execution_count": 8
        }
      ]
    },
    {
      "cell_type": "code",
      "metadata": {
        "id": "LT9ZaW79ixYi",
        "colab_type": "code",
        "colab": {
          "base_uri": "https://localhost:8080/",
          "height": 119
        },
        "outputId": "c58dfeb4-0c71-4cb0-8a04-2f6bf877084b"
      },
      "source": [
        "with open('Example2.txt','w') as writefile:\n",
        "    for line in Lines:\n",
        "        print(line)\n",
        "        writefile.write(line)"
      ],
      "execution_count": 9,
      "outputs": [
        {
          "output_type": "stream",
          "text": [
            "This is line A\n",
            "\n",
            "This is line B\n",
            "\n",
            "This is line C\n",
            "\n"
          ],
          "name": "stdout"
        }
      ]
    },
    {
      "cell_type": "markdown",
      "metadata": {
        "id": "iLCGXJNwixYk",
        "colab_type": "text"
      },
      "source": [
        " We can verify the file is written by reading it and printing out the values:  "
      ]
    },
    {
      "cell_type": "code",
      "metadata": {
        "id": "T5UXx4QXixYk",
        "colab_type": "code",
        "colab": {
          "base_uri": "https://localhost:8080/",
          "height": 85
        },
        "outputId": "fb2bc9d5-ce6d-44c4-969a-42a5de1fc5b7"
      },
      "source": [
        "with open('Example2.txt','r') as testwritefile:\n",
        "    print(testwritefile.read())"
      ],
      "execution_count": 10,
      "outputs": [
        {
          "output_type": "stream",
          "text": [
            "This is line A\n",
            "This is line B\n",
            "This is line C\n",
            "\n"
          ],
          "name": "stdout"
        }
      ]
    },
    {
      "cell_type": "markdown",
      "metadata": {
        "id": "IhPTcVhDixYn",
        "colab_type": "text"
      },
      "source": [
        "We can again append to the file by changing the second parameter to  **a**. This adds the code:"
      ]
    },
    {
      "cell_type": "code",
      "metadata": {
        "id": "XvKK75roixYn",
        "colab_type": "code",
        "colab": {}
      },
      "source": [
        "with open('Example2.txt','a') as testwritefile:\n",
        "    testwritefile.write(\"This is line D\\n\")"
      ],
      "execution_count": 0,
      "outputs": []
    },
    {
      "cell_type": "markdown",
      "metadata": {
        "id": "sYqczm3-ixYp",
        "colab_type": "text"
      },
      "source": [
        "We can see the results of appending the file: "
      ]
    },
    {
      "cell_type": "code",
      "metadata": {
        "id": "vM30GmzVixYp",
        "colab_type": "code",
        "colab": {
          "base_uri": "https://localhost:8080/",
          "height": 102
        },
        "outputId": "bbd127de-bcf8-4b53-e4e8-7055af5cbadf"
      },
      "source": [
        "with open('Example2.txt','r') as testwritefile:\n",
        "    print(testwritefile.read())"
      ],
      "execution_count": 12,
      "outputs": [
        {
          "output_type": "stream",
          "text": [
            "This is line A\n",
            "This is line B\n",
            "This is line C\n",
            "This is line D\n",
            "\n"
          ],
          "name": "stdout"
        }
      ]
    },
    {
      "cell_type": "markdown",
      "metadata": {
        "id": "pEvYUTc2ixYr",
        "colab_type": "text"
      },
      "source": [
        "#### Copy a file "
      ]
    },
    {
      "cell_type": "markdown",
      "metadata": {
        "id": "dwTOZg0mixYr",
        "colab_type": "text"
      },
      "source": [
        "Let's copy the file **Example2.txt** to the file **Example3.txt**:"
      ]
    },
    {
      "cell_type": "code",
      "metadata": {
        "id": "0U5Rj9YzixYs",
        "colab_type": "code",
        "colab": {}
      },
      "source": [
        "with open('Example2.txt','r') as readfile:\n",
        "    with open('Example3.txt','w') as writefile:\n",
        "          for line in readfile:\n",
        "                writefile.write(line)"
      ],
      "execution_count": 0,
      "outputs": []
    },
    {
      "cell_type": "markdown",
      "metadata": {
        "id": "uFr980sdixYu",
        "colab_type": "text"
      },
      "source": [
        "We can read the file to see if everything works:"
      ]
    },
    {
      "cell_type": "code",
      "metadata": {
        "id": "kmKv3LBFixYv",
        "colab_type": "code",
        "colab": {}
      },
      "source": [
        "with open('Example3.txt','r') as testwritefile:\n",
        "    print(testwritefile.read())"
      ],
      "execution_count": 0,
      "outputs": []
    },
    {
      "cell_type": "markdown",
      "metadata": {
        "id": "y02nde0DixYx",
        "colab_type": "text"
      },
      "source": [
        " After reading files, we can also write data into files and save them in different file formats like **.txt, .csv, .xls (for excel files) etc**. Let's take a look at an example."
      ]
    },
    {
      "cell_type": "code",
      "metadata": {
        "id": "ccdN2xzbixYy",
        "colab_type": "code",
        "colab": {}
      },
      "source": [
        "# Write CSV file example\n",
        "\n",
        "student_list = [{\"Student ID\": 1, \"Gender\": \"F\", \"Name\": \"Emma\"}, \n",
        "       {\"Student ID\": 2, \"Gender\": \"M\", \"Name\": \"John\"}, \n",
        "       {\"Student ID\": 3, \"Gender\": \"F\", \"Name\": \"Linda\"}]\n",
        "\n",
        "# Write csv file\n",
        "with open('Example_csv.csv','w') as writefile:\n",
        "    \n",
        "    # Set header for each column\n",
        "    for col_header in list(student_list[0].keys()):\n",
        "        writefile.write(str(col_header) + \", \")\n",
        "    writefile.write(\"\\n\")\n",
        "    \n",
        "    # Set value for each column\n",
        "    for student in student_list:\n",
        "        for col_ele in list(student.values()):\n",
        "            writefile.write(str(col_ele) + \", \")\n",
        "        writefile.write(\"\\n\")    \n",
        "\n",
        "# Print out the result csv\n",
        "with open('Example_csv.csv','r') as testwritefile:\n",
        "    print(testwritefile.read())"
      ],
      "execution_count": 0,
      "outputs": []
    },
    {
      "cell_type": "markdown",
      "metadata": {
        "id": "7_EDbfswixY0",
        "colab_type": "text"
      },
      "source": [
        "Now go to the directory to ensure the .txt file exists and contains the summary data that we wrote."
      ]
    }
  ]
}