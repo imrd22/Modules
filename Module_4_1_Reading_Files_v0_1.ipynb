{
  "nbformat": 4,
  "nbformat_minor": 0,
  "metadata": {
    "colab": {
      "name": "Module_4.1_Reading_Files_v0.1.ipynb",
      "provenance": [],
      "collapsed_sections": [],
      "include_colab_link": true
    },
    "language_info": {
      "codemirror_mode": {
        "name": "ipython",
        "version": 3
      },
      "file_extension": ".py",
      "mimetype": "text/x-python",
      "name": "python",
      "nbconvert_exporter": "python",
      "pygments_lexer": "ipython3",
      "version": "3.5.2"
    },
    "kernelspec": {
      "display_name": "Python 3",
      "language": "python",
      "name": "python3"
    }
  },
  "cells": [
    {
      "cell_type": "markdown",
      "metadata": {
        "id": "view-in-github",
        "colab_type": "text"
      },
      "source": [
        "<a href=\"https://colab.research.google.com/github/imrd22/Modules/blob/master/Module_4_1_Reading_Files_v0_1.ipynb\" target=\"_parent\"><img src=\"https://colab.research.google.com/assets/colab-badge.svg\" alt=\"Open In Colab\"/></a>"
      ]
    },
    {
      "cell_type": "markdown",
      "metadata": {
        "id": "chPpUQQ_fKJj",
        "colab_type": "text"
      },
      "source": [
        "#Reading Files Python"
      ]
    },
    {
      "cell_type": "markdown",
      "metadata": {
        "id": "2Umx48SqfKJj",
        "colab_type": "text"
      },
      "source": [
        "<br>"
      ]
    },
    {
      "cell_type": "markdown",
      "metadata": {
        "id": "vlrdd3lffKJk",
        "colab_type": "text"
      },
      "source": [
        "This notebook will provide information regarding reading **.txt** files."
      ]
    },
    {
      "cell_type": "markdown",
      "metadata": {
        "id": "muAJPBbAfKJk",
        "colab_type": "text"
      },
      "source": [
        "## Table of Contents\n",
        "\n",
        "\n",
        "<div class=\"alert alert-block alert-info\" style=\"margin-top: 20px\">\n",
        "\n",
        "<li><a href=\"#ref1\">Reading Text Files</a></li>\n",
        "\n",
        "<br>\n",
        "<p></p>\n",
        "Estimated Time Needed: <strong>15 min</strong>\n",
        "</div>\n",
        "\n",
        "<hr>"
      ]
    },
    {
      "cell_type": "markdown",
      "metadata": {
        "id": "9Zfrtas-fKJl",
        "colab_type": "text"
      },
      "source": [
        " <a id=\"ref1\"></a>\n",
        "<h2 align=center>Reading Text Files</h2>"
      ]
    },
    {
      "cell_type": "markdown",
      "metadata": {
        "id": "rfMRmBe3fKJl",
        "colab_type": "text"
      },
      "source": [
        "One way to read or write a file in Python is to use the built-in **open** function. The **open** function provides a **File object** that contains the methods and attributes you need in order to read, save, and manipulate the file. In this notebook, we will only cover **.txt** files. The first parameter you need is the file path and the file name. An example is shown in __Figure 1__:\n",
        "\n"
      ]
    },
    {
      "cell_type": "markdown",
      "metadata": {
        "id": "5rPNNNihfKJm",
        "colab_type": "text"
      },
      "source": [
        " <a ><img src = \"https://ibm.box.com/shared/static/6wl3vw4ghflafrou0noj70t2n4hbalqr.png\" width = 500, align = \"center\"></a>\n",
        "  <h4 align=center>  \n",
        "    Figure 1: Labeled Syntax of a file object.  \n",
        "\n",
        "  </h4> "
      ]
    },
    {
      "cell_type": "markdown",
      "metadata": {
        "id": "4Yu1aUhxfKJm",
        "colab_type": "text"
      },
      "source": [
        " The mode argument is optional and the default value is **r**. In this notebook we only cover two modes: \n",
        "\n",
        "<li>**r** Read mode for reading files </li>\n",
        "<li>**w** Write mode for writing files</li>"
      ]
    },
    {
      "cell_type": "markdown",
      "metadata": {
        "id": "iJB0XqAifKJn",
        "colab_type": "text"
      },
      "source": [
        " For the next example, we will use the text file **Example1.txt**. The file is shown in figure 2:\n"
      ]
    },
    {
      "cell_type": "markdown",
      "metadata": {
        "id": "RZavmH0CfKJn",
        "colab_type": "text"
      },
      "source": [
        " <a ><img src = \"https://ibm.box.com/shared/static/ilzy3av6x1cd3gi61bq2nq0vxb0awhju.png\" width = 200, align = \"center\"></a>\n",
        "  <h4 align=center>  \n",
        "    Figure 2: The text file \"Example1.txt\".\n",
        "\n",
        "  </h4> "
      ]
    },
    {
      "cell_type": "markdown",
      "metadata": {
        "id": "48gFXENnfKJo",
        "colab_type": "text"
      },
      "source": [
        " First we load the file into the directory: "
      ]
    },
    {
      "cell_type": "code",
      "metadata": {
        "id": "jFfUTXcWfKJo",
        "colab_type": "code",
        "colab": {
          "base_uri": "https://localhost:8080/",
          "height": 204
        },
        "outputId": "0ae035d8-b4af-4970-9fa7-8f51f1da8f5e"
      },
      "source": [
        "!wget -O Example1.txt https://s3-api.us-geo.objectstorage.softlayer.net/cf-courses-data/CognitiveClass/PY0101EN/labs/example1.txt"
      ],
      "execution_count": 1,
      "outputs": [
        {
          "output_type": "stream",
          "text": [
            "--2019-10-06 10:57:12--  https://s3-api.us-geo.objectstorage.softlayer.net/cf-courses-data/CognitiveClass/PY0101EN/labs/example1.txt\n",
            "Resolving s3-api.us-geo.objectstorage.softlayer.net (s3-api.us-geo.objectstorage.softlayer.net)... 67.228.254.193\n",
            "Connecting to s3-api.us-geo.objectstorage.softlayer.net (s3-api.us-geo.objectstorage.softlayer.net)|67.228.254.193|:443... connected.\n",
            "HTTP request sent, awaiting response... 200 OK\n",
            "Length: 45 [text/plain]\n",
            "Saving to: ‘Example1.txt’\n",
            "\n",
            "\rExample1.txt          0%[                    ]       0  --.-KB/s               \rExample1.txt        100%[===================>]      45  --.-KB/s    in 0s      \n",
            "\n",
            "2019-10-06 10:57:12 (8.14 MB/s) - ‘Example1.txt’ saved [45/45]\n",
            "\n"
          ],
          "name": "stdout"
        }
      ]
    },
    {
      "cell_type": "markdown",
      "metadata": {
        "id": "60WWN0yffKJr",
        "colab_type": "text"
      },
      "source": [
        " We read the file: "
      ]
    },
    {
      "cell_type": "code",
      "metadata": {
        "id": "m7B0hXh7fKJs",
        "colab_type": "code",
        "colab": {}
      },
      "source": [
        "example1=\"Example1.txt\"\n",
        "file1 = open(example1,\"r\")"
      ],
      "execution_count": 0,
      "outputs": []
    },
    {
      "cell_type": "markdown",
      "metadata": {
        "id": "ua-1Lxs7fKJv",
        "colab_type": "text"
      },
      "source": [
        " We can view the attributes of the file."
      ]
    },
    {
      "cell_type": "markdown",
      "metadata": {
        "id": "9rpQnEWVfKJw",
        "colab_type": "text"
      },
      "source": [
        "The name of the file:"
      ]
    },
    {
      "cell_type": "code",
      "metadata": {
        "id": "4jOdQ3pffKJw",
        "colab_type": "code",
        "colab": {}
      },
      "source": [
        "file1.name"
      ],
      "execution_count": 0,
      "outputs": []
    },
    {
      "cell_type": "markdown",
      "metadata": {
        "id": "EV3ekT9JfKJy",
        "colab_type": "text"
      },
      "source": [
        " The mode the file object is in:"
      ]
    },
    {
      "cell_type": "code",
      "metadata": {
        "id": "bxA7uS8afKJy",
        "colab_type": "code",
        "colab": {}
      },
      "source": [
        "file1.mode"
      ],
      "execution_count": 0,
      "outputs": []
    },
    {
      "cell_type": "markdown",
      "metadata": {
        "id": "gzI79Ga5fKJ1",
        "colab_type": "text"
      },
      "source": [
        "We can read the file and assign it to a variable :"
      ]
    },
    {
      "cell_type": "code",
      "metadata": {
        "id": "bUAjRQMEfKJ1",
        "colab_type": "code",
        "colab": {
          "base_uri": "https://localhost:8080/",
          "height": 34
        },
        "outputId": "c4c2b5f3-2188-4cef-deee-e0508a60efe9"
      },
      "source": [
        "FileContent=file1.read()\n",
        "FileContent"
      ],
      "execution_count": 3,
      "outputs": [
        {
          "output_type": "execute_result",
          "data": {
            "text/plain": [
              "'This is line 1 \\nThis is line 2\\nThis is line 3'"
            ]
          },
          "metadata": {
            "tags": []
          },
          "execution_count": 3
        }
      ]
    },
    {
      "cell_type": "markdown",
      "metadata": {
        "id": "r9ulq1OvfKJ3",
        "colab_type": "text"
      },
      "source": [
        "The “/n” tells python that there is a new line. "
      ]
    },
    {
      "cell_type": "markdown",
      "metadata": {
        "id": "vt8fos_2fKJ4",
        "colab_type": "text"
      },
      "source": [
        "We can print the file: "
      ]
    },
    {
      "cell_type": "code",
      "metadata": {
        "id": "jwe-V-yyfKJ5",
        "colab_type": "code",
        "colab": {
          "base_uri": "https://localhost:8080/",
          "height": 68
        },
        "outputId": "fc8893a9-8364-4bb8-e1aa-d237af111439"
      },
      "source": [
        "print(FileContent)"
      ],
      "execution_count": 4,
      "outputs": [
        {
          "output_type": "stream",
          "text": [
            "This is line 1 \n",
            "This is line 2\n",
            "This is line 3\n"
          ],
          "name": "stdout"
        }
      ]
    },
    {
      "cell_type": "markdown",
      "metadata": {
        "id": "8VJ_p3JJfKJ7",
        "colab_type": "text"
      },
      "source": [
        "The file is of type string:"
      ]
    },
    {
      "cell_type": "code",
      "metadata": {
        "id": "DT3cY_NWfKJ7",
        "colab_type": "code",
        "colab": {
          "base_uri": "https://localhost:8080/",
          "height": 34
        },
        "outputId": "99f65f1e-9a06-4f11-dadd-cbce8cecfb24"
      },
      "source": [
        "type(FileContent)"
      ],
      "execution_count": 5,
      "outputs": [
        {
          "output_type": "execute_result",
          "data": {
            "text/plain": [
              "str"
            ]
          },
          "metadata": {
            "tags": []
          },
          "execution_count": 5
        }
      ]
    },
    {
      "cell_type": "markdown",
      "metadata": {
        "id": "WWFSIGgHfKJ9",
        "colab_type": "text"
      },
      "source": [
        " We must close the file object:"
      ]
    },
    {
      "cell_type": "code",
      "metadata": {
        "id": "t8G6h7hXfKJ9",
        "colab_type": "code",
        "colab": {}
      },
      "source": [
        "file1.close()"
      ],
      "execution_count": 0,
      "outputs": []
    },
    {
      "cell_type": "code",
      "metadata": {
        "id": "FQHunULpfKJ_",
        "colab_type": "code",
        "colab": {}
      },
      "source": [
        "file1"
      ],
      "execution_count": 0,
      "outputs": []
    },
    {
      "cell_type": "markdown",
      "metadata": {
        "id": "D_EjtejnfKKB",
        "colab_type": "text"
      },
      "source": [
        " <h3> A  Better Way to Open a File </h3>"
      ]
    },
    {
      "cell_type": "markdown",
      "metadata": {
        "id": "m2VIryDcfKKB",
        "colab_type": "text"
      },
      "source": [
        "Using the **with** statement is better practice, it automatically closes the file even if the code encounters an exception. The code will run everything in the indent block then close the file object. \n"
      ]
    },
    {
      "cell_type": "code",
      "metadata": {
        "id": "fS81_UAcfKKC",
        "colab_type": "code",
        "colab": {
          "base_uri": "https://localhost:8080/",
          "height": 68
        },
        "outputId": "8a97cab3-d25b-42ad-935b-c0b78665ae96"
      },
      "source": [
        "with open(example1,\"r\") as file1:\n",
        "    FileContent=file1.read()\n",
        "    print(FileContent)"
      ],
      "execution_count": 7,
      "outputs": [
        {
          "output_type": "stream",
          "text": [
            "This is line 1 \n",
            "This is line 2\n",
            "This is line 3\n"
          ],
          "name": "stdout"
        }
      ]
    },
    {
      "cell_type": "markdown",
      "metadata": {
        "id": "hIIFmulPfKKF",
        "colab_type": "text"
      },
      "source": [
        "The file object is closed, you can verify it by running the following cell:  "
      ]
    },
    {
      "cell_type": "code",
      "metadata": {
        "id": "uRzhDs7BfKKF",
        "colab_type": "code",
        "colab": {
          "base_uri": "https://localhost:8080/",
          "height": 34
        },
        "outputId": "e81d4c1d-4155-4c93-cf23-3b984e521649"
      },
      "source": [
        "file1.closed"
      ],
      "execution_count": 8,
      "outputs": [
        {
          "output_type": "execute_result",
          "data": {
            "text/plain": [
              "True"
            ]
          },
          "metadata": {
            "tags": []
          },
          "execution_count": 8
        }
      ]
    },
    {
      "cell_type": "markdown",
      "metadata": {
        "id": "7T-BgPm3fKKH",
        "colab_type": "text"
      },
      "source": [
        " We can see the info in the file:"
      ]
    },
    {
      "cell_type": "code",
      "metadata": {
        "id": "jsUUX1KCfKKI",
        "colab_type": "code",
        "colab": {
          "base_uri": "https://localhost:8080/",
          "height": 68
        },
        "outputId": "ff003691-429d-4cae-f0d6-ef35c3f13934"
      },
      "source": [
        "print(FileContent)"
      ],
      "execution_count": 9,
      "outputs": [
        {
          "output_type": "stream",
          "text": [
            "This is line 1 \n",
            "This is line 2\n",
            "This is line 3\n"
          ],
          "name": "stdout"
        }
      ]
    },
    {
      "cell_type": "markdown",
      "metadata": {
        "id": "efx5y0WafKKM",
        "colab_type": "text"
      },
      "source": [
        "The syntax is a little confusing as the file object is after the **as** statement. We also don’t explicitly close the file. Therefore we summarise the steps in a figure:"
      ]
    },
    {
      "cell_type": "markdown",
      "metadata": {
        "id": "O3CGY0pOfKKM",
        "colab_type": "text"
      },
      "source": [
        " <a ><img src = \"https://ibm.box.com/shared/static/ywul1ji1ld82xwz60ljxvbg6fs2vrunm.png\" width = 500, align = \"center\"></a>\n",
        "  <h4 align=center>  \n",
        "    The syntax for opening a file using a 'with' statement.\n",
        "\n",
        "  </h4> "
      ]
    },
    {
      "cell_type": "code",
      "metadata": {
        "id": "uho0cWQpfKKO",
        "colab_type": "code",
        "colab": {
          "base_uri": "https://localhost:8080/",
          "height": 34
        },
        "outputId": "f1bde265-983e-4f7a-dbfa-94eabf63e0b1"
      },
      "source": [
        "with open(example1,\"r\") as file1:\n",
        "    FileContent=file1.readlines()\n",
        "    print(FileContent)"
      ],
      "execution_count": 10,
      "outputs": [
        {
          "output_type": "stream",
          "text": [
            "['This is line 1 \\n', 'This is line 2\\n', 'This is line 3']\n"
          ],
          "name": "stdout"
        }
      ]
    },
    {
      "cell_type": "markdown",
      "metadata": {
        "id": "t5BSt0L6fKKQ",
        "colab_type": "text"
      },
      "source": [
        "We don’t have to read the entire file, for example, we can read the first 4 characters by entering three as a parameter to the method **.read()**:\n"
      ]
    },
    {
      "cell_type": "code",
      "metadata": {
        "id": "pDfqrsgqfKKQ",
        "colab_type": "code",
        "colab": {
          "base_uri": "https://localhost:8080/",
          "height": 34
        },
        "outputId": "1f7a6403-f4e7-4f97-9add-94981a84c98d"
      },
      "source": [
        "with open(example1,\"r\") as file1:\n",
        "    print(file1.read(4))"
      ],
      "execution_count": 11,
      "outputs": [
        {
          "output_type": "stream",
          "text": [
            "This\n"
          ],
          "name": "stdout"
        }
      ]
    },
    {
      "cell_type": "markdown",
      "metadata": {
        "id": "xXlnSXcTfKKS",
        "colab_type": "text"
      },
      "source": [
        "Once the method **.read(4)** is called the first 4 characters are called.  If we call the method again, the next 4 characters are called. The output for the following cell will demonstrate the process for different inputs to the method **read() **:\n",
        "\n"
      ]
    },
    {
      "cell_type": "code",
      "metadata": {
        "id": "fn9RwCH9fKKT",
        "colab_type": "code",
        "colab": {
          "base_uri": "https://localhost:8080/",
          "height": 102
        },
        "outputId": "a85a13be-51fb-4875-8e6e-bba325e8b123"
      },
      "source": [
        "with open(example1,\"r\") as file1:\n",
        "    print(file1.read(4))\n",
        "    print(file1.read(4))\n",
        "    print(file1.read(7))\n",
        "    print(file1.read(15))\n"
      ],
      "execution_count": 12,
      "outputs": [
        {
          "output_type": "stream",
          "text": [
            "This\n",
            " is \n",
            "line 1 \n",
            "\n",
            "This is line 2\n"
          ],
          "name": "stdout"
        }
      ]
    },
    {
      "cell_type": "markdown",
      "metadata": {
        "id": "tuOUgH45fKKU",
        "colab_type": "text"
      },
      "source": [
        " The process is illustrated in the below figure, and each colour represents the part of the file read after the method **read()** is called:\n"
      ]
    },
    {
      "cell_type": "markdown",
      "metadata": {
        "id": "aXSuL13qfKKV",
        "colab_type": "text"
      },
      "source": [
        " <a ><img src = \"https://ibm.box.com/shared/static/s0xs6y4vcvabp2ll2pwspa6kd8qeoddj.png\" width = 500, align = \"center\"></a>\n",
        "  <h4 align=center>  \n",
        "     Illustration using the method **.read()** to call different characters \n",
        "\n",
        "  </h4> "
      ]
    },
    {
      "cell_type": "markdown",
      "metadata": {
        "id": "Q4f0VAqffKKV",
        "colab_type": "text"
      },
      "source": [
        " Here is an example using different values: "
      ]
    },
    {
      "cell_type": "code",
      "metadata": {
        "id": "Y3oMdhNyfKKW",
        "colab_type": "code",
        "colab": {
          "base_uri": "https://localhost:8080/",
          "height": 85
        },
        "outputId": "eefdd649-cce9-4c0c-a16e-953fba981c82"
      },
      "source": [
        "with open(example1,\"r\") as file1:\n",
        "    print(file1.read(16))\n",
        "    print(file1.read(5))\n",
        "    print(file1.read(9))\n"
      ],
      "execution_count": 13,
      "outputs": [
        {
          "output_type": "stream",
          "text": [
            "This is line 1 \n",
            "\n",
            "This \n",
            "is line 2\n"
          ],
          "name": "stdout"
        }
      ]
    },
    {
      "cell_type": "markdown",
      "metadata": {
        "id": "zalcT3SFfKKX",
        "colab_type": "text"
      },
      "source": [
        "We can also read one line of the file at a time using the method **readline()**: "
      ]
    },
    {
      "cell_type": "code",
      "metadata": {
        "id": "X84p03COfKKY",
        "colab_type": "code",
        "colab": {
          "base_uri": "https://localhost:8080/",
          "height": 51
        },
        "outputId": "b10f0ed0-f6d4-4c9d-8e0d-8f64bab7050a"
      },
      "source": [
        " with open(example1,\"r\") as file1:\n",
        "    print(\"first line: \" + file1.readline())\n"
      ],
      "execution_count": 14,
      "outputs": [
        {
          "output_type": "stream",
          "text": [
            "first line: This is line 1 \n",
            "\n"
          ],
          "name": "stdout"
        }
      ]
    },
    {
      "cell_type": "markdown",
      "metadata": {
        "id": "J34u0wOMfKKZ",
        "colab_type": "text"
      },
      "source": [
        " We can use a loop to iterate through each line: \n"
      ]
    },
    {
      "cell_type": "code",
      "metadata": {
        "id": "CfLNkx_lfKKZ",
        "colab_type": "code",
        "colab": {
          "base_uri": "https://localhost:8080/",
          "height": 102
        },
        "outputId": "61d8d476-4f84-4e5f-da15-18eac2aa5d5a"
      },
      "source": [
        " with open(example1,\"r\") as file1:\n",
        "        i=0;\n",
        "        for line in file1:\n",
        "            print(\"Iteration\" ,str(i),\":\",line)\n",
        "            i=i+1;"
      ],
      "execution_count": 15,
      "outputs": [
        {
          "output_type": "stream",
          "text": [
            "Iteration 0 : This is line 1 \n",
            "\n",
            "Iteration 1 : This is line 2\n",
            "\n",
            "Iteration 2 : This is line 3\n"
          ],
          "name": "stdout"
        }
      ]
    },
    {
      "cell_type": "markdown",
      "metadata": {
        "id": "rONbZ53ffKKb",
        "colab_type": "text"
      },
      "source": [
        "We can use the method **readline()** to save the text file to a list: "
      ]
    },
    {
      "cell_type": "code",
      "metadata": {
        "id": "KDikJgnrfKKb",
        "colab_type": "code",
        "colab": {}
      },
      "source": [
        "with open(example1,\"r\") as file1:\n",
        "    FileasList=file1.readlines()"
      ],
      "execution_count": 0,
      "outputs": []
    },
    {
      "cell_type": "markdown",
      "metadata": {
        "id": "os9eAzO-fKKc",
        "colab_type": "text"
      },
      "source": [
        " Each element of the list corresponds to a line of text:"
      ]
    },
    {
      "cell_type": "code",
      "metadata": {
        "id": "TBPMknwZfKKd",
        "colab_type": "code",
        "colab": {
          "base_uri": "https://localhost:8080/",
          "height": 34
        },
        "outputId": "f4567e72-7bd5-4763-ef0d-617a08a7eae5"
      },
      "source": [
        "FileasList[0]"
      ],
      "execution_count": 18,
      "outputs": [
        {
          "output_type": "execute_result",
          "data": {
            "text/plain": [
              "'This is line 1 \\n'"
            ]
          },
          "metadata": {
            "tags": []
          },
          "execution_count": 18
        }
      ]
    },
    {
      "cell_type": "code",
      "metadata": {
        "id": "JBmn6mEffKKe",
        "colab_type": "code",
        "colab": {}
      },
      "source": [
        "FileasList[1]"
      ],
      "execution_count": 0,
      "outputs": []
    },
    {
      "cell_type": "code",
      "metadata": {
        "id": "1FFVAMYBfKKg",
        "colab_type": "code",
        "colab": {}
      },
      "source": [
        "FileasList[2]"
      ],
      "execution_count": 0,
      "outputs": []
    }
  ]
}